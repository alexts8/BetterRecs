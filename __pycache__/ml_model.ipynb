{
 "cells": [
  {
   "cell_type": "code",
   "execution_count": 9,
   "metadata": {},
   "outputs": [
    {
     "ename": "ModuleNotFoundError",
     "evalue": "No module named 'sklearn'",
     "output_type": "error",
     "traceback": [
      "\u001b[1;31m---------------------------------------------------------------------------\u001b[0m",
      "\u001b[1;31mModuleNotFoundError\u001b[0m                       Traceback (most recent call last)",
      "\u001b[1;32mc:\\Users\\alext\\OneDrive\\Desktop\\FYP\\__pycache__\\ml_model.ipynb Cell 1\u001b[0m line \u001b[0;36m3\n\u001b[0;32m      <a href='vscode-notebook-cell:/c%3A/Users/alext/OneDrive/Desktop/FYP/__pycache__/ml_model.ipynb#W0sZmlsZQ%3D%3D?line=0'>1</a>\u001b[0m \u001b[39mimport\u001b[39;00m \u001b[39mspotipy\u001b[39;00m\n\u001b[0;32m      <a href='vscode-notebook-cell:/c%3A/Users/alext/OneDrive/Desktop/FYP/__pycache__/ml_model.ipynb#W0sZmlsZQ%3D%3D?line=1'>2</a>\u001b[0m \u001b[39mimport\u001b[39;00m \u001b[39mpandas\u001b[39;00m \u001b[39mas\u001b[39;00m \u001b[39mpd\u001b[39;00m\n\u001b[1;32m----> <a href='vscode-notebook-cell:/c%3A/Users/alext/OneDrive/Desktop/FYP/__pycache__/ml_model.ipynb#W0sZmlsZQ%3D%3D?line=2'>3</a>\u001b[0m \u001b[39mimport\u001b[39;00m \u001b[39msklearn\u001b[39;00m\n\u001b[0;32m      <a href='vscode-notebook-cell:/c%3A/Users/alext/OneDrive/Desktop/FYP/__pycache__/ml_model.ipynb#W0sZmlsZQ%3D%3D?line=3'>4</a>\u001b[0m \u001b[39mfrom\u001b[39;00m \u001b[39msklearn\u001b[39;00m\u001b[39m.\u001b[39;00m\u001b[39mmetrics\u001b[39;00m\u001b[39m.\u001b[39;00m\u001b[39mpairwise\u001b[39;00m \u001b[39mimport\u001b[39;00m cosine_similarity\n\u001b[0;32m      <a href='vscode-notebook-cell:/c%3A/Users/alext/OneDrive/Desktop/FYP/__pycache__/ml_model.ipynb#W0sZmlsZQ%3D%3D?line=4'>5</a>\u001b[0m \u001b[39mfrom\u001b[39;00m \u001b[39msklearn\u001b[39;00m\u001b[39m.\u001b[39;00m\u001b[39mpreprocessing\u001b[39;00m \u001b[39mimport\u001b[39;00m MinMaxScaler\n",
      "\u001b[1;31mModuleNotFoundError\u001b[0m: No module named 'sklearn'"
     ]
    }
   ],
   "source": [
    "import spotipy\n",
    "import pandas as pd\n",
    "import sklearn\n",
    "from sklearn.metrics.pairwise import cosine_similarity\n",
    "from sklearn.preprocessing import MinMaxScaler\n",
    "from sklearn.feature_extraction.text import TfidfVectorizer\n",
    "from spotipy.oauth2 import SpotifyOAuth\n",
    "\n",
    "scope='user-library-read playlist-modify-public playlist-modify-private'\n",
    "\n",
    "\n",
    "sp = spotipy.Spotify(auth_manager=SpotifyOAuth(client_id=\"6584944ee0d9495480193d9997a9efb7\",\n",
    "                                               client_secret=\"ac4205f012b64179acd46c0fbdb33f36\",\n",
    "                                               redirect_uri=\"http://127.0.0.1:5000/redirect\",\n",
    "                                               scope=scope))\n",
    "\n",
    "songs = []\n",
    "pl = sp.current_user_playlists()['items'];\n",
    "id = pl[0]['id']\n",
    "playlist = sp.playlist_tracks(id)\n",
    "\n",
    "tracks_data = []\n",
    "\n",
    "for track in playlist['items']:\n",
    "    \n",
    "    track_uri = track['track']['uri']\n",
    "    track_info = sp.track(track_uri)\n",
    "    track_popularity = track_info['popularity']\n",
    "    \n",
    "    artist_uri = track['track']['artists'][0]['uri']\n",
    "    artist = sp.artist(artist_uri)\n",
    "    track_data = {\n",
    "            'artist_name': track['track']['artists'][0]['name'],\n",
    "            'id': track['track']['id'],\n",
    "            'track_name': track['track']['name'],\n",
    "            'track_pop': track_popularity,\n",
    "            'danceability': None,\n",
    "            'energy': None,\n",
    "            'key': None,\n",
    "            'loudness': None,\n",
    "            'mode': None,\n",
    "            'speechiness': None,\n",
    "            'acousticness': None,\n",
    "            'instrumentalness': None,\n",
    "            'liveness': None,\n",
    "            'valence': None,\n",
    "            'tempo': None,\n",
    "            'artist_pop': artist['popularity'],\n",
    "            'genres': artist['genres']\n",
    "        }\n",
    "    \n",
    "    audio_features = sp.audio_features([track['track']['uri']])[0]\n",
    "    if audio_features:\n",
    "        track_data['danceability'] = audio_features['danceability']\n",
    "        track_data['energy'] = audio_features['energy']\n",
    "        track_data['key'] = audio_features['key']\n",
    "        track_data['loudness'] = audio_features['loudness']\n",
    "        track_data['mode'] = audio_features['mode']\n",
    "        track_data['speechiness'] = audio_features['speechiness']\n",
    "        track_data['acousticness'] = audio_features['acousticness']\n",
    "        track_data['instrumentalness'] = audio_features['instrumentalness']\n",
    "        track_data['liveness'] = audio_features['liveness']\n",
    "        track_data['valence'] = audio_features['valence']\n",
    "        track_data['tempo'] = audio_features['tempo']\n",
    "        \n",
    "    tracks_data.append(track_data)\n",
    "\n",
    "songs_df = pd.DataFrame(tracks_data)\n",
    "songs_df.drop_duplicates('track_name')\n",
    "\n",
    "print(songs_df)"
   ]
  },
  {
   "cell_type": "code",
   "execution_count": 10,
   "metadata": {},
   "outputs": [
    {
     "name": "stdout",
     "output_type": "stream",
     "text": [
      "count     5.000000\n",
      "mean     72.400000\n",
      "std       7.092249\n",
      "min      64.000000\n",
      "25%      67.000000\n",
      "50%      72.000000\n",
      "75%      79.000000\n",
      "max      80.000000\n",
      "Name: artist_pop, dtype: float64\n"
     ]
    },
    {
     "ename": "NameError",
     "evalue": "name 'MinMaxScaler' is not defined",
     "output_type": "error",
     "traceback": [
      "\u001b[1;31m---------------------------------------------------------------------------\u001b[0m",
      "\u001b[1;31mNameError\u001b[0m                                 Traceback (most recent call last)",
      "\u001b[1;32mc:\\Users\\alext\\OneDrive\\Desktop\\FYP\\__pycache__\\ml_model.ipynb Cell 2\u001b[0m line \u001b[0;36m4\n\u001b[0;32m      <a href='vscode-notebook-cell:/c%3A/Users/alext/OneDrive/Desktop/FYP/__pycache__/ml_model.ipynb#W2sZmlsZQ%3D%3D?line=1'>2</a>\u001b[0m \u001b[39mprint\u001b[39m(songs_df[\u001b[39m'\u001b[39m\u001b[39martist_pop\u001b[39m\u001b[39m'\u001b[39m]\u001b[39m.\u001b[39mdescribe())\n\u001b[0;32m      <a href='vscode-notebook-cell:/c%3A/Users/alext/OneDrive/Desktop/FYP/__pycache__/ml_model.ipynb#W2sZmlsZQ%3D%3D?line=2'>3</a>\u001b[0m pop \u001b[39m=\u001b[39m songs_df[[\u001b[39m\"\u001b[39m\u001b[39martist_pop\u001b[39m\u001b[39m\"\u001b[39m]]\u001b[39m.\u001b[39mreset_index(drop \u001b[39m=\u001b[39m \u001b[39mTrue\u001b[39;00m)\n\u001b[1;32m----> <a href='vscode-notebook-cell:/c%3A/Users/alext/OneDrive/Desktop/FYP/__pycache__/ml_model.ipynb#W2sZmlsZQ%3D%3D?line=3'>4</a>\u001b[0m scaler \u001b[39m=\u001b[39m MinMaxScaler()\n\u001b[0;32m      <a href='vscode-notebook-cell:/c%3A/Users/alext/OneDrive/Desktop/FYP/__pycache__/ml_model.ipynb#W2sZmlsZQ%3D%3D?line=4'>5</a>\u001b[0m pop_scaled \u001b[39m=\u001b[39m pd\u001b[39m.\u001b[39mDataFrame(scaler\u001b[39m.\u001b[39mfit_transform(pop), columns \u001b[39m=\u001b[39m pop\u001b[39m.\u001b[39mcolumns)\n\u001b[0;32m      <a href='vscode-notebook-cell:/c%3A/Users/alext/OneDrive/Desktop/FYP/__pycache__/ml_model.ipynb#W2sZmlsZQ%3D%3D?line=5'>6</a>\u001b[0m pop_scaled\u001b[39m.\u001b[39mhead()\n",
      "\u001b[1;31mNameError\u001b[0m: name 'MinMaxScaler' is not defined"
     ]
    }
   ],
   "source": [
    "# generate the features\n",
    "print(songs_df['artist_pop'].describe())\n",
    "pop = songs_df[[\"artist_pop\"]].reset_index(drop = True)\n",
    "scaler = MinMaxScaler()\n",
    "pop_scaled = pd.DataFrame(scaler.fit_transform(pop), columns = pop.columns)\n",
    "pop_scaled.head()"
   ]
  },
  {
   "cell_type": "code",
   "execution_count": null,
   "metadata": {},
   "outputs": [],
   "source": []
  }
 ],
 "metadata": {
  "kernelspec": {
   "display_name": "Python 3",
   "language": "python",
   "name": "python3"
  },
  "language_info": {
   "codemirror_mode": {
    "name": "ipython",
    "version": 3
   },
   "file_extension": ".py",
   "mimetype": "text/x-python",
   "name": "python",
   "nbconvert_exporter": "python",
   "pygments_lexer": "ipython3",
   "version": "3.9.0"
  }
 },
 "nbformat": 4,
 "nbformat_minor": 2
}
